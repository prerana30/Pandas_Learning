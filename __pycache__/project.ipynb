{
 "cells": [
  {
   "cell_type": "code",
   "execution_count": 1,
   "metadata": {},
   "outputs": [
    {
     "name": "stdout",
     "output_type": "stream",
     "text": [
      "parameter\n",
      "pm1      37.920872\n",
      "pm10     69.334579\n",
      "pm25     59.230218\n",
      "um010     5.579657\n",
      "um025     0.591402\n",
      "um100     0.040685\n",
      "Name: value, dtype: float64\n"
     ]
    }
   ],
   "source": [
    "import pandas as pd\n",
    "from api import fetch_data_from_api\n",
    "\n",
    "# Fetch the data from the API using the function defined in api.py\n",
    "data = fetch_data_from_api()\n",
    "\n",
    "# Manipulate and analyze the data as needed\n",
    "# For example, you can group the data by parameter and compute the average value\n",
    "avg_by_parameter = data.groupby('parameter')['value'].mean()\n",
    "print(avg_by_parameter)\n",
    "\n"
   ]
  }
 ],
 "metadata": {
  "kernelspec": {
   "display_name": "Python 3",
   "language": "python",
   "name": "python3"
  },
  "language_info": {
   "codemirror_mode": {
    "name": "ipython",
    "version": 3
   },
   "file_extension": ".py",
   "mimetype": "text/x-python",
   "name": "python",
   "nbconvert_exporter": "python",
   "pygments_lexer": "ipython3",
   "version": "3.10.5"
  },
  "orig_nbformat": 4
 },
 "nbformat": 4,
 "nbformat_minor": 2
}
