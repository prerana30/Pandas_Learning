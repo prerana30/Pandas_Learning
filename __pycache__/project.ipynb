{
 "cells": [
  {
   "cell_type": "code",
   "execution_count": 2,
   "metadata": {},
   "outputs": [
    {
     "name": "stdout",
     "output_type": "stream",
     "text": [
      "parameter\n",
      "pm1      37.701553\n",
      "pm10     68.941615\n",
      "pm25     58.880745\n",
      "um010     5.544503\n",
      "um025     0.587857\n",
      "um100     0.040311\n",
      "Name: value, dtype: float64\n"
     ]
    }
   ],
   "source": [
    "import pandas as pd\n",
    "from api import fetch_data_from_api\n",
    "\n",
    "# Fetch the data from the API using the function defined in api.py\n",
    "data = fetch_data_from_api()\n",
    "\n",
    "# Manipulate and analyze the data as needed\n",
    "# For example, you can group the data by parameter and compute the average value\n",
    "avg_by_parameter = data.groupby('parameter')['value'].mean()\n",
    "print(avg_by_parameter)\n",
    "\n"
   ]
  }
 ],
 "metadata": {
  "kernelspec": {
   "display_name": "Python 3",
   "language": "python",
   "name": "python3"
  },
  "language_info": {
   "codemirror_mode": {
    "name": "ipython",
    "version": 3
   },
   "file_extension": ".py",
   "mimetype": "text/x-python",
   "name": "python",
   "nbconvert_exporter": "python",
   "pygments_lexer": "ipython3",
   "version": "3.10.5"
  },
  "orig_nbformat": 4
 },
 "nbformat": 4,
 "nbformat_minor": 2
}
